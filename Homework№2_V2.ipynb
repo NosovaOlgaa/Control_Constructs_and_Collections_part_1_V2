{
 "cells": [
  {
   "cell_type": "code",
   "execution_count": 37,
   "metadata": {},
   "outputs": [
    {
     "name": "stdout",
     "output_type": "stream",
     "text": [
      "t\n"
     ]
    }
   ],
   "source": [
    "'''Дана переменная, в которой хранится слово из латинских букв. Напишите код, который выводит на экран:\n",
    "\n",
    "среднюю букву, если число букв в слове нечетное;\n",
    "две средних буквы, если число букв четное.'''\n",
    "\n",
    "#word='test'\n",
    "word='testing'\n",
    "\n",
    "parity = len(word) / 2\n",
    "\n",
    "if len(word) % 2 == 0:\n",
    "    print(word[int(parity) - 1:int(parity)+1])\n",
    "else:\n",
    "    print(word[int(parity)])"
   ]
  },
  {
   "cell_type": "code",
   "execution_count": 5,
   "metadata": {},
   "outputs": [
    {
     "name": "stdout",
     "output_type": "stream",
     "text": [
      "1\n",
      "4\n",
      "6\n",
      "0\n",
      "11\n"
     ]
    }
   ],
   "source": [
    "'''Напишите программу, которая последовательно запрашивает у пользователя числа (по одному за раз)\n",
    "и после первого нуля выводит сумму всех ранее введенных чисел.'''\n",
    "\n",
    "number = int(input())\n",
    "sum = 0\n",
    "\n",
    "while number != 0:\n",
    "    sum +=number\n",
    "    number = int(input())\n",
    "    \n",
    "print(sum)"
   ]
  },
  {
   "cell_type": "code",
   "execution_count": 37,
   "metadata": {},
   "outputs": [
    {
     "name": "stdout",
     "output_type": "stream",
     "text": [
      "Идеальные пары:\n",
      "Alex и Emma\n",
      "Arthur и Kate\n",
      "John и Kira\n",
      "Peter и Liza\n",
      "Richard и Trisha\n"
     ]
    }
   ],
   "source": [
    "'''Мы делаем MVP dating-сервиса, и у нас есть список парней и девушек.\n",
    "Выдвигаем гипотезу: лучшие рекомендации мы получим, если просто отсортируем \n",
    "имена по алфавиту и познакомим людей с одинаковыми индексами после сортировки! \n",
    "Но мы не будем никого знакомить, если кто-то может остаться без пары'''\n",
    "\n",
    "boys = ['Peter', 'Alex', 'John', 'Arthur', 'Richard']\n",
    "girls = ['Kate', 'Liza', 'Kira', 'Emma', 'Trisha']\n",
    "\n",
    "#boys = ['Peter', 'Alex', 'John', 'Arthur', 'Richard', 'Michael']\n",
    "#girls = ['Kate', 'Liza', 'Kira', 'Emma', 'Trisha']\n",
    "\n",
    "if len(boys) == len(girls):\n",
    "    boys = sorted(boys)\n",
    "    girls = sorted(girls)\n",
    "    couple = zip(boys, girls)\n",
    "    print(\"Идеальные пары:\")\n",
    "    for names in couple:\n",
    "        print(f'{names[0]}{\" и \"}{names[1]}')     \n",
    "else: \n",
    "    print('Внимание, кто-то может остаться без пары!')\n",
    "\n",
    "for names in couple:\n",
    "    print(names)"
   ]
  },
  {
   "cell_type": "code",
   "execution_count": 6,
   "metadata": {},
   "outputs": [
    {
     "name": "stdout",
     "output_type": "stream",
     "text": [
      "Средняя температура в странах:\n",
      "Thailand - 23.9\n",
      "Germany - 13.8\n",
      "Russia - 3.7\n",
      "Poland - 12.0\n"
     ]
    }
   ],
   "source": [
    "'''У нас есть список, содержащий информацию о среднедневной температуре в Фаренгейтах \n",
    "за произвольный период по странам (структура данных в примере). Необходимо написать код, \n",
    "который рассчитает среднюю температуру за период в Цельсиях(!) для каждой страны.'''\n",
    "\n",
    "countries_temperature = [\n",
    "['Thailand', [75.2, 77, 78.8, 73.4, 68, 75.2, 77]],\n",
    "['Germany', [57.2, 55.4, 59, 59, 53.6]],\n",
    "['Russia', [35.6, 37.4, 39.2, 41, 42.8, 39.2, 35.6]],\n",
    "['Poland', [50, 50, 53.6, 57.2, 55.4, 55.4]]\n",
    "]\n",
    "\n",
    "print('Средняя температура в странах:')\n",
    "\n",
    "for country in countries_temperature:\n",
    "    avr_temp = sum(country[1])/len(country[1])\n",
    "    print(f'{country[0]} - {round((avr_temp - 32)/1.8, 1)}')"
   ]
  },
  {
   "cell_type": "code",
   "execution_count": 18,
   "metadata": {},
   "outputs": [
    {
     "name": "stdout",
     "output_type": "stream",
     "text": [
      "['user1']\n",
      "['3']\n",
      "['user1']\n",
      "['4']\n",
      "['user1']\n",
      "['1']\n",
      "['user1']\n",
      "['1']\n",
      "['user2']\n",
      "['7']\n",
      "['user3']\n",
      "['4']\n",
      "['user3']\n",
      "['1']\n",
      "['user4']\n",
      "['1']\n",
      "['user4']\n",
      "['4']\n",
      "['user4']\n",
      "['8']\n",
      "['user4']\n",
      "['9']\n",
      "['user4']\n",
      "['1']\n"
     ]
    }
   ],
   "source": [
    "'''Дан поток логов по количеству просмотренных страниц для каждого пользователя.\n",
    "Вам необходимо написать алгоритм, который считает среднее значение просмотров на пользователя. \n",
    "Т. е. надо посчитать отношение суммы всех просмотров к количеству уникальных пользователей.'''\n",
    "\n",
    "stream = [\n",
    "'2018-01-01,user1,3',\n",
    "'2018-01-07,user1,4',\n",
    "'2018-03-29,user1,1',\n",
    "'2018-04-04,user1,13',\n",
    "'2018-01-05,user2,7',\n",
    "'2018-06-14,user3,4',\n",
    "'2018-07-02,user3,10',\n",
    "'2018-03-21,user4,19',\n",
    "'2018-03-22,user4,4',\n",
    "'2018-04-22,user4,8',\n",
    "'2018-05-03,user4,9',\n",
    "'2018-05-11,user4,11',\n",
    "]\n",
    "\n",
    "'''stream = [\n",
    "'2018-01-01,user100,150',\n",
    "'2018-01-07,user99,205',\n",
    "'2018-03-29,user1001,81'\n",
    "]'''\n",
    "\n",
    "for quantity in stream:\n",
    "    print(quantity[11:16].split(','))\n",
    "    print(quantity[17].split(','))\n",
    "   \n"
   ]
  },
  {
   "cell_type": "code",
   "execution_count": 27,
   "metadata": {},
   "outputs": [
    {
     "name": "stdout",
     "output_type": "stream",
     "text": [
      "Введите набор чисел разделенных пробелом - 1 2 2 3 6 6 9 8 7 7 \n",
      "2\n",
      "6\n",
      "7\n"
     ]
    }
   ],
   "source": [
    "'''Необходимо у пользователя запрашивать набор чисел разделенных пробелом.\n",
    "В результате должны выводиться числа, которые повторяются в вводе более одного раза.'''\n",
    "\n",
    "numeric = list(map(int,input('Введите набор чисел разделенных пробелом - ').split()))\n",
    "numeric.sort()\n",
    "n = 0\n",
    "\n",
    "for i in range(1, len(numeric)):\n",
    "    if numeric[i] == numeric[n]:\n",
    "        if i - n == 1:\n",
    "            print(numeric[i])\n",
    "    else:\n",
    "            n = i"
   ]
  }
 ],
 "metadata": {
  "kernelspec": {
   "display_name": "Python 3",
   "language": "python",
   "name": "python3"
  },
  "language_info": {
   "codemirror_mode": {
    "name": "ipython",
    "version": 3
   },
   "file_extension": ".py",
   "mimetype": "text/x-python",
   "name": "python",
   "nbconvert_exporter": "python",
   "pygments_lexer": "ipython3",
   "version": "3.8.5"
  }
 },
 "nbformat": 4,
 "nbformat_minor": 4
}
